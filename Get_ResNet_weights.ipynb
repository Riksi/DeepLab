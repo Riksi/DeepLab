{
 "cells": [
  {
   "cell_type": "code",
   "execution_count": 1,
   "metadata": {},
   "outputs": [
    {
     "name": "stderr",
     "output_type": "stream",
     "text": [
      "/home/ubuntu/.local/lib/python3.5/site-packages/h5py/__init__.py:34: FutureWarning: Conversion of the second argument of issubdtype from `float` to `np.floating` is deprecated. In future, it will be treated as `np.float64 == np.dtype(float).type`.\n",
      "  from ._conv import register_converters as _register_converters\n",
      "Using TensorFlow backend.\n"
     ]
    }
   ],
   "source": [
    "import h5py\n",
    "import numpy as np\n",
    "from keras.applications import ResNet50"
   ]
  },
  {
   "cell_type": "code",
   "execution_count": 2,
   "metadata": {},
   "outputs": [],
   "source": [
    "resnet = ResNet50(include_top=False)"
   ]
  },
  {
   "cell_type": "code",
   "execution_count": 3,
   "metadata": {},
   "outputs": [],
   "source": [
    "weights_file = h5py.File('resnet50_weights_tf_dim_ordering_tf_kernels_notop.h5','r')"
   ]
  },
  {
   "cell_type": "code",
   "execution_count": 4,
   "metadata": {},
   "outputs": [],
   "source": [
    "weights_dict = {}"
   ]
  },
  {
   "cell_type": "code",
   "execution_count": 5,
   "metadata": {},
   "outputs": [],
   "source": [
    "for layer in resnet.layers:\n",
    "    if layer.weights:\n",
    "        layer_name = layer.name\n",
    "        weight_keys = list(weights_file[layer_name])\n",
    "        for key in weight_keys:\n",
    "            if '_b_' in key:\n",
    "                name = 'bias'\n",
    "            elif '_W_' in key:\n",
    "                name = 'kernel'\n",
    "            elif 'gamma' in key:\n",
    "                name = 'gamma'\n",
    "            elif 'beta' in key:\n",
    "                name = 'beta'\n",
    "            elif 'running_mean' in key:\n",
    "                name = 'moving_mean'\n",
    "            elif 'running_std' in key:\n",
    "                name = 'moving_variance'\n",
    "            weights_dict['{}/{}:0'.format(layer_name, name)] = weights_file[layer_name][key].value\n",
    "        "
   ]
  },
  {
   "cell_type": "code",
   "execution_count": 6,
   "metadata": {},
   "outputs": [],
   "source": [
    "np.savez('resnet50', **weights_dict)"
   ]
  },
  {
   "cell_type": "code",
   "execution_count": 7,
   "metadata": {},
   "outputs": [
    {
     "data": {
      "text/plain": [
       "[(3, 3, 128, 128),\n",
       " (1, 1, 1024, 512),\n",
       " (1, 1, 64, 64),\n",
       " (3, 3, 256, 256),\n",
       " (1, 1, 256, 512),\n",
       " (3, 3, 64, 64),\n",
       " (1, 1, 256, 128),\n",
       " (1, 1, 256, 1024),\n",
       " (3, 3, 128, 128),\n",
       " (1, 1, 256, 1024),\n",
       " (1, 1, 256, 64),\n",
       " (1, 1, 1024, 256),\n",
       " (3, 3, 64, 64),\n",
       " (1, 1, 1024, 256),\n",
       " (3, 3, 64, 64),\n",
       " (1, 1, 1024, 256),\n",
       " (1, 1, 512, 256),\n",
       " (1, 1, 512, 128),\n",
       " (1, 1, 512, 2048),\n",
       " (1, 1, 1024, 256),\n",
       " (3, 3, 512, 512),\n",
       " (1, 1, 256, 1024),\n",
       " (1, 1, 64, 256),\n",
       " (1, 1, 128, 512),\n",
       " (3, 3, 256, 256),\n",
       " (1, 1, 64, 256),\n",
       " (7, 7, 3, 64),\n",
       " (1, 1, 256, 1024),\n",
       " (1, 1, 512, 128),\n",
       " (1, 1, 256, 64),\n",
       " (3, 3, 128, 128),\n",
       " (1, 1, 128, 512),\n",
       " (3, 3, 256, 256),\n",
       " (1, 1, 512, 128),\n",
       " (1, 1, 2048, 512),\n",
       " (1, 1, 512, 2048),\n",
       " (1, 1, 64, 256),\n",
       " (1, 1, 1024, 256),\n",
       " (3, 3, 512, 512),\n",
       " (1, 1, 128, 512),\n",
       " (1, 1, 512, 1024),\n",
       " (1, 1, 128, 512),\n",
       " (1, 1, 2048, 512),\n",
       " (3, 3, 256, 256),\n",
       " (1, 1, 256, 1024),\n",
       " (3, 3, 128, 128),\n",
       " (1, 1, 1024, 2048),\n",
       " (1, 1, 512, 2048),\n",
       " (1, 1, 64, 256),\n",
       " (3, 3, 256, 256),\n",
       " (1, 1, 256, 1024),\n",
       " (3, 3, 256, 256),\n",
       " (3, 3, 512, 512)]"
      ]
     },
     "execution_count": 7,
     "metadata": {},
     "output_type": "execute_result"
    }
   ],
   "source": [
    "[v.shape for k,v in weights_dict.items() if 'kernel' in k]"
   ]
  },
  {
   "cell_type": "code",
   "execution_count": null,
   "metadata": {},
   "outputs": [],
   "source": []
  }
 ],
 "metadata": {
  "kernelspec": {
   "display_name": "Python 3",
   "language": "python",
   "name": "python3"
  },
  "language_info": {
   "codemirror_mode": {
    "name": "ipython",
    "version": 3
   },
   "file_extension": ".py",
   "mimetype": "text/x-python",
   "name": "python",
   "nbconvert_exporter": "python",
   "pygments_lexer": "ipython3",
   "version": "3.5.2"
  }
 },
 "nbformat": 4,
 "nbformat_minor": 2
}
