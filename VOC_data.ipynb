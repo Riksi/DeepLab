{
 "cells": [
  {
   "cell_type": "code",
   "execution_count": 366,
   "metadata": {},
   "outputs": [],
   "source": [
    "import numpy as np\n",
    "import pickle\n",
    "import matplotlib.pyplot as plt\n",
    "import os\n",
    "import sys\n",
    "from os.path import join\n",
    "%matplotlib inline"
   ]
  },
  {
   "cell_type": "code",
   "execution_count": 372,
   "metadata": {},
   "outputs": [],
   "source": [
    "def color_map(N=256, normalized=False):\n",
    "    def bitget(byteval, idx):\n",
    "        return ((byteval & (1 << idx)) != 0)\n",
    "\n",
    "    dtype = 'float32' if normalized else 'uint8'\n",
    "    cmap = np.zeros((N, 3), dtype=dtype)\n",
    "    for i in range(N):\n",
    "        r = g = b = 0\n",
    "        c = i\n",
    "        for j in range(8):\n",
    "            r = r | (bitget(c, 0) << 7-j)\n",
    "            g = g | (bitget(c, 1) << 7-j)\n",
    "            b = b | (bitget(c, 2) << 7-j)\n",
    "            c = c >> 3\n",
    "\n",
    "        cmap[i] = np.array([r, g, b])\n",
    "\n",
    "    cmap = cmap/255 if normalized else cmap\n",
    "    return cmap\n"
   ]
  },
  {
   "cell_type": "code",
   "execution_count": 373,
   "metadata": {},
   "outputs": [],
   "source": [
    "cmap = color_map(normalized=True)\n",
    "labels = ['background', 'aeroplane', 'bicycle', 'bird', 'boat', 'bottle', \n",
    "              'bus', 'car', 'cat', 'chair', 'cow', 'diningtable', \n",
    "              'dog', 'horse', 'motorbike', 'person', 'pottedplant', 'sheep', \n",
    "              'sofa', 'train', 'tvmonitor', 'void']\n",
    "cmap_dict = {tuple(clr):i for i, clr in enumerate(cmap)}\n",
    "label_dict = {i:label for i,label in enumerate(labels[:-1])}\n",
    "label_dict[255] = labels[-1]"
   ]
  },
  {
   "cell_type": "code",
   "execution_count": 374,
   "metadata": {},
   "outputs": [],
   "source": [
    "with open('voc_cmap_dict.pkl','wb') as f:\n",
    "    pickle.dump(cmap_dict, f)\n",
    "    \n",
    "with open('voc_label_dict.pkl','wb') as f:\n",
    "    pickle.dump(label_dict, f)\n",
    "    "
   ]
  },
  {
   "cell_type": "code",
   "execution_count": 379,
   "metadata": {},
   "outputs": [],
   "source": [
    "cmap_num = np.sum((cmap[:21]*255/64)*([[100,10,1]]), axis=1)"
   ]
  },
  {
   "cell_type": "code",
   "execution_count": 382,
   "metadata": {},
   "outputs": [],
   "source": [
    "def img2seg(img, cmap_dict):\n",
    "    img = np.sum((img*255/64)*([100, 10, 1]), axis = -1).astype(np.int64)\n",
    "    seg = list(map(cmap_dict.get, img.reshape(-1)))\n",
    "    seg = np.reshape(seg, img.shape).astype(np.int64)\n",
    "    return seg"
   ]
  },
  {
   "cell_type": "code",
   "execution_count": 383,
   "metadata": {},
   "outputs": [],
   "source": [
    "cm_dict = dict(zip(cmap_num.astype(np.int64), list(range(21))))\n",
    "cm_dict[388] = 255 #colour for 255 is [0.8784314, 0.8784314, 0.7529412] \n",
    "#and ([0.8784314, 0.8784314, 0.7529412]*255/64)*[100,10,1] = 388"
   ]
  },
  {
   "cell_type": "code",
   "execution_count": 392,
   "metadata": {},
   "outputs": [],
   "source": [
    "img_files = os.listdir('VOCdevkit/VOC2012/SegmentationClass')"
   ]
  },
  {
   "cell_type": "code",
   "execution_count": 439,
   "metadata": {},
   "outputs": [
    {
     "name": "stdout",
     "output_type": "stream",
     "text": [
      "2912/2913"
     ]
    }
   ],
   "source": [
    "for i, img_file in enumerate(img_files):\n",
    "    sys.stdout.write('\\r{}/{}'.format(i, len(img_files)))\n",
    "    img = plt.imread(os.path.join('VOCdevkit/VOC2012/SegmentationClass', img_file))\n",
    "    seg = img2seg(img, cm_dict)\n",
    "    plt.imsave(arr=seg, fname=os.path.join('VOCdevkit/VOC2012/SegmentationMap', img_file), cmap='gray')"
   ]
  },
  {
   "cell_type": "code",
   "execution_count": null,
   "metadata": {},
   "outputs": [],
   "source": []
  }
 ],
 "metadata": {
  "kernelspec": {
   "display_name": "Python 3",
   "language": "python",
   "name": "python3"
  },
  "language_info": {
   "codemirror_mode": {
    "name": "ipython",
    "version": 3
   },
   "file_extension": ".py",
   "mimetype": "text/x-python",
   "name": "python",
   "nbconvert_exporter": "python",
   "pygments_lexer": "ipython3",
   "version": "3.5.2"
  }
 },
 "nbformat": 4,
 "nbformat_minor": 2
}
